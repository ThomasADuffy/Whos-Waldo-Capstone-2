{
 "cells": [
  {
   "cell_type": "markdown",
   "metadata": {},
   "source": [
    "# In this note book I am looking on how my image generator works and also just generally looking into my pictures."
   ]
  },
  {
   "cell_type": "code",
   "execution_count": 1,
   "metadata": {},
   "outputs": [],
   "source": [
    "from tensorflow.keras.preprocessing.image import ImageDataGenerator\n",
    "from skimage import io, color, filters\n",
    "from skimage.transform import resize, rotate\n",
    "import matplotlib.pyplot as plt\n",
    "%matplotlib inline "
   ]
  },
  {
   "cell_type": "code",
   "execution_count": 2,
   "metadata": {},
   "outputs": [],
   "source": [
    "datagen = ImageDataGenerator(\n",
    "    rotation_range=0,\n",
    "    width_shift_range=0.15,\n",
    "    height_shift_range=0.15,\n",
    "    rescale=1./255,\n",
    "    shear_range=0.1,\n",
    "    zoom_range=0.1,\n",
    "    horizontal_flip=True,\n",
    "    vertical_flip=False,\n",
    "    brightness_range=(.7,1.3),\n",
    "    fill_mode='nearest')"
   ]
  },
  {
   "cell_type": "code",
   "execution_count": 16,
   "metadata": {},
   "outputs": [],
   "source": [
    "waldo_test =io.imread('../data/Keras Generated/Train/waldo/screenshot-from-2019-10-14-10-.jpg')"
   ]
  },
  {
   "cell_type": "code",
   "execution_count": 17,
   "metadata": {},
   "outputs": [
    {
     "data": {
      "text/plain": [
       "<matplotlib.image.AxesImage at 0x7f19b38cf320>"
      ]
     },
     "execution_count": 17,
     "metadata": {},
     "output_type": "execute_result"
    },
    {
     "data": {
      "image/png": "[encoded data removed]",
      "text/plain": [
       "<Figure size 432x288 with 1 Axes>"
      ]
     },
     "metadata": {
      "needs_background": "light"
     },
     "output_type": "display_data"
    }
   ],
   "source": [
    "io.imshow(waldo_test)"
   ]
  },
  {
   "cell_type": "code",
   "execution_count": 9,
   "metadata": {},
   "outputs": [
    {
     "name": "stdout",
     "output_type": "stream",
     "text": [
      "Found 8050 images belonging to 2 classes.\n"
     ]
    }
   ],
   "source": [
    "generator = datagen.flow_from_directory(\n",
    "        '../data/Keras Generated/Train/',\n",
    "        target_size=(64, 64),\n",
    "        batch_size=1, color_mode='rgb',\n",
    "    class_mode='binary', shuffle=True, interpolation='nearest')"
   ]
  },
  {
   "cell_type": "code",
   "execution_count": 1,
   "metadata": {},
   "outputs": [
    {
     "ename": "NameError",
     "evalue": "name 'generator' is not defined",
     "output_type": "error",
     "traceback": [
      "\u001b[0;31m---------------------------------------------------------------------------\u001b[0m",
      "\u001b[0;31mNameError\u001b[0m                                 Traceback (most recent call last)",
      "\u001b[0;32m<ipython-input-1-d9b6d07f3413>\u001b[0m in \u001b[0;36m<module>\u001b[0;34m\u001b[0m\n\u001b[0;32m----> 1\u001b[0;31m \u001b[0mx\u001b[0m\u001b[0;34m,\u001b[0m\u001b[0my\u001b[0m \u001b[0;34m=\u001b[0m \u001b[0mgenerator\u001b[0m\u001b[0;34m[\u001b[0m\u001b[0;36m0\u001b[0m\u001b[0;34m]\u001b[0m\u001b[0;34m\u001b[0m\u001b[0;34m\u001b[0m\u001b[0m\n\u001b[0m\u001b[1;32m      2\u001b[0m \u001b[0mfig\u001b[0m\u001b[0;34m,\u001b[0m\u001b[0max\u001b[0m \u001b[0;34m=\u001b[0m \u001b[0mplt\u001b[0m\u001b[0;34m.\u001b[0m\u001b[0msubplots\u001b[0m\u001b[0;34m(\u001b[0m\u001b[0;36m1\u001b[0m\u001b[0;34m,\u001b[0m\u001b[0;36m1\u001b[0m\u001b[0;34m,\u001b[0m\u001b[0mfigsize\u001b[0m\u001b[0;34m=\u001b[0m\u001b[0;34m(\u001b[0m\u001b[0;36m5\u001b[0m\u001b[0;34m,\u001b[0m\u001b[0;36m5\u001b[0m\u001b[0;34m)\u001b[0m\u001b[0;34m)\u001b[0m\u001b[0;34m\u001b[0m\u001b[0;34m\u001b[0m\u001b[0m\n\u001b[1;32m      3\u001b[0m \u001b[0mimage\u001b[0m \u001b[0;34m=\u001b[0m \u001b[0mx\u001b[0m\u001b[0;34m[\u001b[0m\u001b[0;36m0\u001b[0m\u001b[0;34m]\u001b[0m\u001b[0;34m\u001b[0m\u001b[0;34m\u001b[0m\u001b[0m\n\u001b[1;32m      4\u001b[0m \u001b[0max\u001b[0m\u001b[0;34m.\u001b[0m\u001b[0mimshow\u001b[0m\u001b[0;34m(\u001b[0m\u001b[0mimage\u001b[0m\u001b[0;34m)\u001b[0m\u001b[0;34m\u001b[0m\u001b[0;34m\u001b[0m\u001b[0m\n\u001b[1;32m      5\u001b[0m \u001b[0mplt\u001b[0m\u001b[0;34m.\u001b[0m\u001b[0mshow\u001b[0m\u001b[0;34m(\u001b[0m\u001b[0;34m)\u001b[0m\u001b[0;34m\u001b[0m\u001b[0;34m\u001b[0m\u001b[0m\n",
      "\u001b[0;31mNameError\u001b[0m: name 'generator' is not defined"
     ]
    }
   ],
   "source": [
    "x,y = generator.next()\n",
    "fig,ax = plt.subplots(1,1,figsize=(5,5))\n",
    "image = x[0]\n",
    "ax.imshow(image)\n",
    "plt.show()\n",
    "print(y)"
   ]
  },
  {
   "cell_type": "code",
   "execution_count": 15,
   "metadata": {},
   "outputs": [
    {
     "data": {
      "text/plain": [
       "array([[[0.454902  , 0.32941177, 0.21568629],\n",
       "        [0.454902  , 0.32941177, 0.21568629],\n",
       "        [0.454902  , 0.32941177, 0.21176472],\n",
       "        ...,\n",
       "        [0.09019608, 0.10980393, 0.01176471],\n",
       "        [0.09019608, 0.10980393, 0.01176471],\n",
       "        [0.09019608, 0.10980393, 0.01176471]],\n",
       "\n",
       "       [[0.6509804 , 0.5294118 , 0.41960788],\n",
       "        [0.6509804 , 0.5294118 , 0.4156863 ],\n",
       "        [0.654902  , 0.53333336, 0.42352945],\n",
       "        ...,\n",
       "        [0.10588236, 0.10588236, 0.02745098],\n",
       "        [0.10588236, 0.10588236, 0.02745098],\n",
       "        [0.10588236, 0.10588236, 0.02745098]],\n",
       "\n",
       "       [[0.8862746 , 0.76470596, 0.6627451 ],\n",
       "        [0.8862746 , 0.76470596, 0.6627451 ],\n",
       "        [0.8862746 , 0.76470596, 0.6627451 ],\n",
       "        ...,\n",
       "        [0.1254902 , 0.1137255 , 0.04313726],\n",
       "        [0.1254902 , 0.1137255 , 0.04313726],\n",
       "        [0.1254902 , 0.1137255 , 0.04313726]],\n",
       "\n",
       "       ...,\n",
       "\n",
       "       [[0.54509807, 0.8745099 , 0.8470589 ],\n",
       "        [0.54509807, 0.8745099 , 0.8470589 ],\n",
       "        [0.54509807, 0.8745099 , 0.8470589 ],\n",
       "        ...,\n",
       "        [0.76470596, 0.69803923, 0.6117647 ],\n",
       "        [0.76470596, 0.69803923, 0.6117647 ],\n",
       "        [0.76470596, 0.69803923, 0.6117647 ]],\n",
       "\n",
       "       [[0.54509807, 0.8745099 , 0.8470589 ],\n",
       "        [0.54509807, 0.8745099 , 0.8470589 ],\n",
       "        [0.54509807, 0.8745099 , 0.8470589 ],\n",
       "        ...,\n",
       "        [0.5058824 , 0.44705886, 0.36862746],\n",
       "        [0.5058824 , 0.44705886, 0.36862746],\n",
       "        [0.5058824 , 0.44705886, 0.36862746]],\n",
       "\n",
       "       [[0.54509807, 0.8745099 , 0.8470589 ],\n",
       "        [0.54509807, 0.8745099 , 0.8470589 ],\n",
       "        [0.54509807, 0.8745099 , 0.8470589 ],\n",
       "        ...,\n",
       "        [0.37647063, 0.32156864, 0.2392157 ],\n",
       "        [0.37647063, 0.32156864, 0.2392157 ],\n",
       "        [0.37647063, 0.32156864, 0.2392157 ]]], dtype=float32)"
      ]
     },
     "execution_count": 15,
     "metadata": {},
     "output_type": "execute_result"
    }
   ],
   "source": [
    "x[0]"
   ]
  },
  {
   "cell_type": "code",
   "execution_count": 3,
   "metadata": {},
   "outputs": [
    {
     "data": {
      "text/plain": [
       "['/home/thomas/Documents/Galvanize/Capstones/Whos-Waldo-Capstone-2/notebooks',\n",
       " '/home/thomas/anaconda3/lib/python37.zip',\n",
       " '/home/thomas/anaconda3/lib/python3.7',\n",
       " '/home/thomas/anaconda3/lib/python3.7/lib-dynload',\n",
       " '',\n",
       " '/home/thomas/anaconda3/lib/python3.7/site-packages',\n",
       " '/home/thomas/anaconda3/lib/python3.7/site-packages/IPython/extensions',\n",
       " '/home/thomas/.ipython']"
      ]
     },
     "execution_count": 3,
     "metadata": {},
     "output_type": "execute_result"
    }
   ],
   "source": [
    "import sys\n",
    "sys.path"
   ]
  },
  {
   "cell_type": "code",
   "execution_count": null,
   "metadata": {},
   "outputs": [],
   "source": []
  }
 ],
 "metadata": {
  "kernelspec": {
   "display_name": "Python 3",
   "language": "python",
   "name": "python3"
  },
  "language_info": {
   "codemirror_mode": {
    "name": "ipython",
    "version": 3
   },
   "file_extension": ".py",
   "mimetype": "text/x-python",
   "name": "python",
   "nbconvert_exporter": "python",
   "pygments_lexer": "ipython3",
   "version": "3.7.4"
  }
 },
 "nbformat": 4,
 "nbformat_minor": 2
}
