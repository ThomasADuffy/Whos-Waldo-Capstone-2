{
 "cells": [
  {
   "cell_type": "code",
   "execution_count": 3,
   "metadata": {},
   "outputs": [],
   "source": [
    "import numpy as np\n",
    "import pandas as pd\n",
    "import matplotlib.pyplot as plt\n",
    "import sys\n",
    "import os\n",
    "SCRIPT_DIRECTORY = os.path.realpath('')\n",
    "ROOT_DIRECTORY = os.path.split(SCRIPT_DIRECTORY)[0]\n",
    "SRC_DIRECTORY = os.path.join(ROOT_DIRECTORY,'src')\n",
    "MODEL_DIRECTORY = os.path.join(ROOT_DIRECTORY,'model')\n",
    "sys.path.append(ROOT_DIRECTORY)\n",
    "sys.path.append(SRC_DIRECTORY)\n",
    "sys.path.append(MODEL_DIRECTORY)\n",
    "from waldo_plotter import WaldoPlotter\n",
    "%matplotlib inline\n"
   ]
  },
  {
   "cell_type": "code",
   "execution_count": 5,
   "metadata": {},
   "outputs": [],
   "source": [
    "df = pd.read_csv(os.path.join(MODEL_DIRECTORY,'model_v1_metrics.csv'))"
   ]
  },
  {
   "cell_type": "code",
   "execution_count": null,
   "metadata": {},
   "outputs": [],
   "source": []
  }
 ],
 "metadata": {
  "kernelspec": {
   "display_name": "Python 3",
   "language": "python",
   "name": "python3"
  },
  "language_info": {
   "codemirror_mode": {
    "name": "ipython",
    "version": 3
   },
   "file_extension": ".py",
   "mimetype": "text/x-python",
   "name": "python",
   "nbconvert_exporter": "python",
   "pygments_lexer": "ipython3",
   "version": "3.7.4"
  }
 },
 "nbformat": 4,
 "nbformat_minor": 2
}
