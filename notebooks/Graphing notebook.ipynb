{
 "cells": [
  {
   "cell_type": "code",
   "execution_count": null,
   "metadata": {},
   "outputs": [],
   "source": [
    "import numpy as np\n",
    "import pandas as pd\n",
    "import matplotlib.pyplot as plt\n",
    "import matplotlib\n",
    "import sys\n",
    "import os\n",
    "import importlib\n",
    "FILE_DIRECTORY = os.path.realpath('')\n",
    "ROOT_DIRECTORY = os.path.split(FILE_DIRECTORY)[0]\n",
    "SRC_DIRECTORY = os.path.join(ROOT_DIRECTORY,'src')\n",
    "MODEL_DIRECTORY = os.path.join(ROOT_DIRECTORY,'model')\n",
    "IMGS_DIRECTORY = os.path.join(ROOT_DIRECTORY,'images')\n",
    "WRONG_IMGS_DIRECTORY = os.path.join(IMGS_DIRECTORY,'model_wrong_images')\n",
    "sys.path.append(ROOT_DIRECTORY)\n",
    "sys.path.append(SRC_DIRECTORY)\n",
    "sys.path.append(MODEL_DIRECTORY)\n",
    "from waldo_plotter import *\n",
    "%matplotlib inline"
   ]
  },
  {
   "cell_type": "code",
   "execution_count": null,
   "metadata": {},
   "outputs": [],
   "source": [
    "df1 = pd.read_csv(os.path.join(MODEL_DIRECTORY,'model_v1_metrics.csv'))"
   ]
  },
  {
   "cell_type": "code",
   "execution_count": null,
   "metadata": {},
   "outputs": [],
   "source": [
    "df2 = pd.read_csv(os.path.join(MODEL_DIRECTORY,'model_v2_metrics.csv'))"
   ]
  },
  {
   "cell_type": "code",
   "execution_count": null,
   "metadata": {},
   "outputs": [],
   "source": [
    "waldo1 = WaldoCNN(50, 10, 'data/Keras Generated/Train',\n",
    "                     'data/Keras Generated/Test',\n",
    "                     'data/Keras Generated/Holdout', 1,\n",
    "                     load_model=os.path.join(MODEL_DIRECTORY,\n",
    "                                             'model_v1.h5'))\n"
   ]
  },
  {
   "cell_type": "code",
   "execution_count": null,
   "metadata": {},
   "outputs": [],
   "source": [
    "waldo2 = WaldoCNN(50, 10, 'data/Keras Generated/Train',\n",
    "                     'data/Keras Generated/Test',\n",
    "                     'data/Keras Generated/Holdout', 2,\n",
    "                     load_model=os.path.join(MODEL_DIRECTORY,\n",
    "                                             'model_v2.h5'))\n"
   ]
  },
  {
   "cell_type": "code",
   "execution_count": null,
   "metadata": {},
   "outputs": [],
   "source": [
    "waldoplt1 = wp.WaldoPlotter(df1, waldo1 ,[0.583, 0.905])\n",
    "waldoplt2 = wp.WaldoPlotter(df, waldo2 ,[0.584,0.952])"
   ]
  },
  {
   "cell_type": "code",
   "execution_count": null,
   "metadata": {},
   "outputs": [],
   "source": [
    "waldoplt1.create_accuracy_loss(os.path.join(IMGS_DIRECTORY,'model_V1_plot.jpg'))"
   ]
  },
  {
   "cell_type": "code",
   "execution_count": null,
   "metadata": {},
   "outputs": [],
   "source": [
    "waldoplt2.create_accuracy_loss(os.path.join(IMGS_DIRECTORY,'model_V1_plot.jpg'))"
   ]
  },
  {
   "cell_type": "code",
   "execution_count": null,
   "metadata": {},
   "outputs": [],
   "source": []
  },
  {
   "cell_type": "code",
   "execution_count": null,
   "metadata": {},
   "outputs": [],
   "source": []
  },
  {
   "cell_type": "code",
   "execution_count": null,
   "metadata": {},
   "outputs": [],
   "source": []
  }
 ],
 "metadata": {
  "kernelspec": {
   "display_name": "Python 3",
   "language": "python",
   "name": "python3"
  },
  "language_info": {
   "codemirror_mode": {
    "name": "ipython",
    "version": 3
   },
   "file_extension": ".py",
   "mimetype": "text/x-python",
   "name": "python",
   "nbconvert_exporter": "python",
   "pygments_lexer": "ipython3",
   "version": "3.7.4"
  }
 },
 "nbformat": 4,
 "nbformat_minor": 2
}
